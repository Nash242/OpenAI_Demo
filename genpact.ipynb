{
 "cells": [
  {
   "cell_type": "code",
   "execution_count": 34,
   "metadata": {},
   "outputs": [],
   "source": [
    "#from langchain.embeddings.openai import OpenAIEmbeddings\n",
    "from langchain.vectorstores import Chroma\n",
    "from langchain.document_loaders import DirectoryLoader\n",
    "from langchain_openai import ChatOpenAI\n",
    "from langchain.chains import RetrievalQA\n",
    "from langchain.text_splitter import RecursiveCharacterTextSplitter\n",
    "from langchain_openai import OpenAIEmbeddings\n",
    "import openai"
   ]
  },
  {
   "cell_type": "code",
   "execution_count": 20,
   "metadata": {},
   "outputs": [],
   "source": [
    "import os\n",
    "os.environ[\"OPENAI_API_KEY\"]= \"Your OpenAI API Key\""
   ]
  },
  {
   "cell_type": "code",
   "execution_count": 12,
   "metadata": {},
   "outputs": [
    {
     "name": "stdout",
     "output_type": "stream",
     "text": [
      "[Document(page_content=\"Genpact Privileged access Management (PAN) PRODUCTION Windows end user manual\\n\\nBeyondTrust Privilege Access Management\\n\\nGenpact\\n\\nWindows end user Manual\\n\\nThis is a draft for discussion only. It represents work in progress and may contain preliminary information which is subject to change. This draft is subject to our Quality Assurance Review.\\n\\nDocument control\\n\\n0\\n\\n1.Introduction\\n\\n1.1 Purpose This document describes the windows end user login process to PAM Solution using domain credentials/OHR ID Okta which will provide access to Powerbroker Password safe portal. This also covers procedures of accessing the target servers\\n\\n1.2 Scope This document includes the ways to access the target systems using various managed accounts, requesting elevation to more privileged managed accounts, approving or rejecting the requested session and various other useful features of the tool for the users.\\n\\n1.3 Audience This document is intended for PAM Administrators who will log on to PAM solution and troubleshoot the PAM managed various target systems.\\n\\n2. Login procedure for auto Approved Requests\\n\\n2.1 Enter the Okta URL (https://genpact.okta-emea.com/) in the browser (Edge/Chrome is recommended)\\n\\n2.2 Log in with OHR ID & Password in okta\\n\\n2.3 After successful login to okta, Add PAM-AWS app from Genpact Apps and click on the tile as shown helow.\\n\\n2.4 Upon clicking on the PAM-AWS, user will be redirected to enter Passcode or send Push notification.\\n\\n2.5 Once the passcode or Push notification authentication is done user will be Redirected to PAM (Beynndtrust) web portal.\\n\\n2.6 After successful logging in to BT, favorites tab will be displayed by default and user would be able to access other required tabs.\\n\\n1. Click on Domain Linked Accounts as devices like Windows, network which are accessed using domain credentials will be shown here\\n\\n2. Click on Click here to return all accounts to view all the available servers & devices mapped with various managed accounts\\n\\n3. Devices can be searched using search field given in top-right area, * will indicate all devices.\\n\\n4. Search can be further refined using funnel shaped icon given in the top row Note: user can select the L1, L2, L3 account as per the role. Any user looking for a higher role would need approval and request will be in pending state till it is approved ar rejected.\\n\\n5. There are two ways to access open the sessions; one is to open normally while another is by using one click feature for quick access. Note: One-Click feature is only available for Auto Approved requests. The icon (flash) would be would black while in case of approval it would be greyed out & disabled.\\n\\n6. Approach One Using normal way: a. Click on the Access icon (in right) aside of the account and device details         which you want to access using the required account mapped against it\\n\\nb. This will Inad the page to request submission form\\n\\nc. Click on Submit Request after filling it as per need and mentioning the valid reason for the request Note: Reason must be valid else request will be rejected in case of invalid reason and will be scrutinize during the auditing.\\n\\nd. This will be redirected to Requests page and request can be seen in the approved status tab if approved or auto-approved. The request will be available here for the time duration it has been requested for\\n\\ne. Click on the active request (3 vertical dots) to Start Session.\\n\\nf. Click on start Session to open the session & it will download the RDP session\\n\\n7. Approach Two using Quick Launch a. Click on the Quick Launch icon in the row same as that of required device & managed account which user wants to access\\n\\nb. Mention the Requested Duration & Reason in Flash screen pop up\\n\\nc. Click on Start SSH session to open the session & it will sunload the RDP session\\n\\nd. Open the saved session & a new screen for RDP will open up and user can perform tasks as per role defined and permissions enabled for the managed account used to open the RDP Session\\n\\ne. Once tasks are performed, session can be logged off but the request in Password Safe will remain for the user for the requested duration\\n\\nf. This will consume a session out of available session as mentioned in the Status tab\\n\\nRed - No session available; Orange - Some sessions available, Green - All or unlimited Sessions available\\n\\ng. To free up the consumed session, open the active request and Check-in Request\\n\\n3. Login Procedure for Requests Requiring Approval\\n\\n1. Follow steps from 1-16 as mentioned in 3.\\n\\n2. Submit the request using approach 1 i.e. normal way (One-Click would be disabled for such requests) and you will be redirected to Requests page\\n\\n3. Request would be seen in the Pending tab\\n\\n4. Open the request to see the status and approver of the request\\n\\n5. Approver can login using his/her credentials and go to Approve page & click on requests; in Pending tab\\n\\n6. On the basis of authenticity/validity of the request, user can Approve or Deny/Cancel the request\\n\\n7. If approved, the request's status will change for the user and request can be seen in Active tab a. Click on the request to view the approver, comments & open RDP session b. Open RDP Session & rest of the steps sould be same as steps 8-11 from 3.1 as mentioned above\\n\\n8. If not approved, the request's status will change for the user and request can be seen in All tab a. Click on the request to view the approver (rejector) and comments to reject the request.\\n\\n9. All user requests Rejected/Approved/Checked-In can be seen in All tab.\\n\\n4. FAQ\\n\\nQuestion: Which are the different options/but given on Password safe Portal home page? Answer: Password Safe mortal's home page looks like: 1. Menu - Opens up the menu elaborately 2. Home - Home Page 3. Password safe - Password Safe Page i.e. Home Page for End User 4. Favourites - Lists favourites selected devices & accounts combinations (Star marked) 5. Recently Used - Lists recently used devices 6. Systems - Lists systems and devices which are not in domain (For ex: Linux) 7. Databases Lists database devices (for ex: Oracle & sql) 8. Domain Linked Accounts - Lists devices which are in domain (for ex: Windows & Netwrk) 9. Applications - Lists devices which use other application like sql Plus, Putty (as an application) 10. Cloud - Lists cloud devices 11. Accounts - Opens up the accounts available used to access devices 12. User Login - Shows user logged in and logout options 13. Settings - changes portal's page by changing color schirme 14. Requests - Redirects All, Active & Pending requests' tabs 15. System - Displays hostnames 16. Directory - Displays domains 17. Account - Managed accounts 18. Account Description - Description of managed accounts 19. Status - Number of sessions available (Green-ALL, Yellow-Partial, Red- None) 20. Platform - Displays flavour of the operating System or type of devices/system 21. Application - Applications used apart from RDP or SSH session 22. Workgroup - Workgroup of the system 23. Filter - Filter out using any search patterns, 24.\\n\\nAbout - About the portal and contains official documents There are no favourites selected but in the below some random favourites have been selected: 25. One Click Launch - one Click Launch feature is for quicker access but is available only in case the request is auto approved.\\n\\nQuestion: Which are the different options/buttons given on Password Safe Portal request submission page? Answer: Password Safe Portal's request submission page looks like: 1. Account - Name of the managed account used to login on which managed system 2. Start Date - Date for the request's start 3. Access Policy Window - Access policy used for the particular account 4. Start Time - Requested duration's start time. It can be immediate or scheduled for later time. 5. Requested Duration - Duration for which the request would be active. By default, it is 2 hours and can be increased but it should not expand to the next day i.e. it should not start on 7th Sep and end on 8th Sep 6. Access Request - Type of access requested 7. Reason - A valid reason why this access is needed. 8. Ticket System - Ticket system in use in the environment 9. Ticket Number - a valid ticket number 10. Submit Request - Request submission button\\n\\nQuestion: How is End user login page experience of a Requester different from an Approver? Answer: Below page is for a Requester which only contains Accounts page & Requests page 1. Accounts - Displays all the available managed accounts & managed devices. 2. Requests - Displays all the Active, Pending, Cancelled and Expired requests. Below page is for an Approver (Requester Approver) which contains approve page as well alongwith Accounts & Requests 3. Approve - Displays requests which requestes are pending for approval\\n\\nQuestion: What is bequested Duration? Answer: Requested Daration is the duration the request would be active for a user in Requestes page. Ideally, user should not open another request during the same duration and should wait\\n\\nQuestion: How many sessions, a user can open for the same request? Answer: User can have maximum 2 sessions as depending upon RDP sessions limit on a particular machine well as the configuration and privilege but ideally there should be single session\\n\\nQuestion: What will happen if the Requested duration is exhausted? Answer: There are 2 scenarios: 1. In case, the duration exahuasted while the user is working on an open session, the session will continue till it is locked out. It is only the request which will get expired not the case. 2. In case, the duration exahausted while there is no session opened by the user, the request will expire and user need to raise another request if he/she needs to open another session\\n\\n[11:41 AM] Nimish Tambe How is and User Login page experience of a Requester different from an Approver? Below page is for a Requester which only contains Accounts page & Requests page\\n\\n1. Accounts Displays all the available managed accounts & managed devices. 2. Requests Displays all the Artive, Pending, Cancelled and rxpired requests.\\n\\n#elow page is for an Approver (Requester Approver) which contains Approve page as well alimpwith sccounts & sequests\\n\\n3. Approve Displays requests which requestes are penting for approval\\n\\nQuestion: What is Requested Duration?\\n\\nAnswer: Requested Duration is the duration the request would be active for a imer in Requestes page. Ideally, oser should not spen another request during the same duration and should wait\\n\\nQuestion: How many sessions a user can open for the same request?\\n\\nAnswer: User can have maximum 2 sessions as depending upon DP sessions limit on a particular machine as well as the configuration and privilege but ideally there should be single session\\n\\nQuestion: What happens if the session becomes idle & locks out within Requested duration? Answer: If the session becomes idle & locks out within the Requested Duration, the user can always go Back to the Requests page open the session from the request in the Active tab.\\n\\nQuestion: How can user extend the session once the request is expired? Answer: If the request is expired and user wants to extend the session, user needs to raise a new request.\", metadata={'source': 'contents\\\\Genpact Privileged access Managemen.txt'})]\n"
     ]
    }
   ],
   "source": [
    "directory = 'contents'\n",
    "def load_docs(directory):\n",
    "    loader = DirectoryLoader(directory)\n",
    "    documents = loader.load()\n",
    "    return documents\n",
    "\n",
    "documents = load_docs(directory)\n",
    "print(documents)"
   ]
  },
  {
   "cell_type": "code",
   "execution_count": 13,
   "metadata": {},
   "outputs": [
    {
     "name": "stdout",
     "output_type": "stream",
     "text": [
      "14\n"
     ]
    }
   ],
   "source": [
    "def split_docs(documents, chunk_size=1000, chunk_overlap=50):\n",
    "    text_split = RecursiveCharacterTextSplitter(chunk_size=chunk_size, chunk_overlap=chunk_overlap)\n",
    "    docs = text_split.split_documents(documents)\n",
    "    return docs\n",
    "\n",
    "docs = split_docs(documents)\n",
    "print(len(docs))"
   ]
  },
  {
   "cell_type": "code",
   "execution_count": 21,
   "metadata": {},
   "outputs": [],
   "source": [
    "embeddings = OpenAIEmbeddings()\n",
    "db = Chroma.from_documents(docs, embeddings)"
   ]
  },
  {
   "cell_type": "code",
   "execution_count": 22,
   "metadata": {},
   "outputs": [
    {
     "data": {
      "text/plain": [
       "Document(page_content=\"5. Approver can login using his/her credentials and go to Approve page & click on requests; in Pending tab\\n\\n6. On the basis of authenticity/validity of the request, user can Approve or Deny/Cancel the request\\n\\n7. If approved, the request's status will change for the user and request can be seen in Active tab a. Click on the request to view the approver, comments & open RDP session b. Open RDP Session & rest of the steps sould be same as steps 8-11 from 3.1 as mentioned above\\n\\n8. If not approved, the request's status will change for the user and request can be seen in All tab a. Click on the request to view the approver (rejector) and comments to reject the request.\\n\\n9. All user requests Rejected/Approved/Checked-In can be seen in All tab.\\n\\n4. FAQ\", metadata={'source': 'contents\\\\Genpact Privileged access Managemen.txt'})"
      ]
     },
     "execution_count": 22,
     "metadata": {},
     "output_type": "execute_result"
    }
   ],
   "source": [
    "query = \"What is the Login Procedure for Requests Requiring Approval?\"\n",
    "matching_docs = db.similarity_search(query)\n",
    "matching_docs[0]"
   ]
  },
  {
   "cell_type": "code",
   "execution_count": 23,
   "metadata": {},
   "outputs": [
    {
     "data": {
      "text/plain": [
       "Document(page_content=\"Question: Which are the different options/but given on Password safe Portal home page? Answer: Password Safe mortal's home page looks like: 1. Menu - Opens up the menu elaborately 2. Home - Home Page 3. Password safe - Password Safe Page i.e. Home Page for End User 4. Favourites - Lists favourites selected devices & accounts combinations (Star marked) 5. Recently Used - Lists recently used devices 6. Systems - Lists systems and devices which are not in domain (For ex: Linux) 7. Databases Lists database devices (for ex: Oracle & sql) 8. Domain Linked Accounts - Lists devices which are in domain (for ex: Windows & Netwrk) 9. Applications - Lists devices which use other application like sql Plus, Putty (as an application) 10. Cloud - Lists cloud devices 11. Accounts - Opens up the accounts available used to access devices 12. User Login - Shows user logged in and logout options 13. Settings - changes portal's page by changing color schirme 14. Requests - Redirects All, Active & Pending\", metadata={'source': 'contents\\\\Genpact Privileged access Managemen.txt'})"
      ]
     },
     "execution_count": 23,
     "metadata": {},
     "output_type": "execute_result"
    }
   ],
   "source": [
    "query1 = \"Which are the different options/but given on Password safe Portal home page?\"\n",
    "matching_docs1 = db.similarity_search(query1)\n",
    "matching_docs1[0]"
   ]
  },
  {
   "cell_type": "code",
   "execution_count": 29,
   "metadata": {},
   "outputs": [
    {
     "data": {
      "text/plain": [
       "[(Document(page_content=\"5. Approver can login using his/her credentials and go to Approve page & click on requests; in Pending tab\\n\\n6. On the basis of authenticity/validity of the request, user can Approve or Deny/Cancel the request\\n\\n7. If approved, the request's status will change for the user and request can be seen in Active tab a. Click on the request to view the approver, comments & open RDP session b. Open RDP Session & rest of the steps sould be same as steps 8-11 from 3.1 as mentioned above\\n\\n8. If not approved, the request's status will change for the user and request can be seen in All tab a. Click on the request to view the approver (rejector) and comments to reject the request.\\n\\n9. All user requests Rejected/Approved/Checked-In can be seen in All tab.\\n\\n4. FAQ\", metadata={'source': 'contents\\\\Genpact Privileged access Managemen.txt'}),\n",
       "  0.27567431330680847),\n",
       " (Document(page_content='d. Open the saved session & a new screen for RDP will open up and user can perform tasks as per role defined and permissions enabled for the managed account used to open the RDP Session\\n\\ne. Once tasks are performed, session can be logged off but the request in Password Safe will remain for the user for the requested duration\\n\\nf. This will consume a session out of available session as mentioned in the Status tab\\n\\nRed - No session available; Orange - Some sessions available, Green - All or unlimited Sessions available\\n\\ng. To free up the consumed session, open the active request and Check-in Request\\n\\n3. Login Procedure for Requests Requiring Approval\\n\\n1. Follow steps from 1-16 as mentioned in 3.\\n\\n2. Submit the request using approach 1 i.e. normal way (One-Click would be disabled for such requests) and you will be redirected to Requests page\\n\\n3. Request would be seen in the Pending tab\\n\\n4. Open the request to see the status and approver of the request', metadata={'source': 'contents\\\\Genpact Privileged access Managemen.txt'}),\n",
       "  0.29071158170700073),\n",
       " (Document(page_content='Question: How is End user login page experience of a Requester different from an Approver? Answer: Below page is for a Requester which only contains Accounts page & Requests page 1. Accounts - Displays all the available managed accounts & managed devices. 2. Requests - Displays all the Active, Pending, Cancelled and Expired requests. Below page is for an Approver (Requester Approver) which contains approve page as well alongwith Accounts & Requests 3. Approve - Displays requests which requestes are pending for approval\\n\\nQuestion: What is bequested Duration? Answer: Requested Daration is the duration the request would be active for a user in Requestes page. Ideally, user should not open another request during the same duration and should wait', metadata={'source': 'contents\\\\Genpact Privileged access Managemen.txt'}),\n",
       "  0.3381962478160858)]"
      ]
     },
     "execution_count": 29,
     "metadata": {},
     "output_type": "execute_result"
    }
   ],
   "source": [
    "matching_docs2 = db.similarity_search_with_score(query,k=3)\n",
    "matching_docs2"
   ]
  },
  {
   "cell_type": "code",
   "execution_count": 31,
   "metadata": {},
   "outputs": [],
   "source": [
    "persist_directory = \"chroma_db\"\n",
    "\n",
    "vectordb = Chroma.from_documents(documents=docs, embedding=embeddings, persist_directory=persist_directory)\n",
    "vectordb.persist()"
   ]
  },
  {
   "cell_type": "code",
   "execution_count": 55,
   "metadata": {},
   "outputs": [
    {
     "data": {
      "text/plain": [
       "[(Document(page_content=\"5. Approver can login using his/her credentials and go to Approve page & click on requests; in Pending tab\\n\\n6. On the basis of authenticity/validity of the request, user can Approve or Deny/Cancel the request\\n\\n7. If approved, the request's status will change for the user and request can be seen in Active tab a. Click on the request to view the approver, comments & open RDP session b. Open RDP Session & rest of the steps sould be same as steps 8-11 from 3.1 as mentioned above\\n\\n8. If not approved, the request's status will change for the user and request can be seen in All tab a. Click on the request to view the approver (rejector) and comments to reject the request.\\n\\n9. All user requests Rejected/Approved/Checked-In can be seen in All tab.\\n\\n4. FAQ\", metadata={'source': 'contents\\\\Genpact Privileged access Managemen.txt'}),\n",
       "  0.27485976224377007),\n",
       " (Document(page_content='d. Open the saved session & a new screen for RDP will open up and user can perform tasks as per role defined and permissions enabled for the managed account used to open the RDP Session\\n\\ne. Once tasks are performed, session can be logged off but the request in Password Safe will remain for the user for the requested duration\\n\\nf. This will consume a session out of available session as mentioned in the Status tab\\n\\nRed - No session available; Orange - Some sessions available, Green - All or unlimited Sessions available\\n\\ng. To free up the consumed session, open the active request and Check-in Request\\n\\n3. Login Procedure for Requests Requiring Approval\\n\\n1. Follow steps from 1-16 as mentioned in 3.\\n\\n2. Submit the request using approach 1 i.e. normal way (One-Click would be disabled for such requests) and you will be redirected to Requests page\\n\\n3. Request would be seen in the Pending tab\\n\\n4. Open the request to see the status and approver of the request', metadata={'source': 'contents\\\\Genpact Privileged access Managemen.txt'}),\n",
       "  0.29084813589910025),\n",
       " (Document(page_content='Question: How is End user login page experience of a Requester different from an Approver? Answer: Below page is for a Requester which only contains Accounts page & Requests page 1. Accounts - Displays all the available managed accounts & managed devices. 2. Requests - Displays all the Active, Pending, Cancelled and Expired requests. Below page is for an Approver (Requester Approver) which contains approve page as well alongwith Accounts & Requests 3. Approve - Displays requests which requestes are pending for approval\\n\\nQuestion: What is bequested Duration? Answer: Requested Daration is the duration the request would be active for a user in Requestes page. Ideally, user should not open another request during the same duration and should wait', metadata={'source': 'contents\\\\Genpact Privileged access Managemen.txt'}),\n",
       "  0.3402204224169152)]"
      ]
     },
     "execution_count": 55,
     "metadata": {},
     "output_type": "execute_result"
    }
   ],
   "source": [
    "new_db = Chroma(persist_directory=persist_directory, embedding_function=embeddings)\n",
    "matching_final = new_db.similarity_search_with_score(query,k=3)\n",
    "matching_final"
   ]
  },
  {
   "cell_type": "code",
   "execution_count": 35,
   "metadata": {},
   "outputs": [],
   "source": [
    "model_name = \"gpt-3.5-turbo\"\n",
    "llm = ChatOpenAI(model_name=model_name)"
   ]
  },
  {
   "cell_type": "code",
   "execution_count": 103,
   "metadata": {},
   "outputs": [],
   "source": [
    "from langchain.chains.question_answering import load_qa_chain\n",
    "chain = load_qa_chain(llm, chain_type=\"stuff\")"
   ]
  },
  {
   "cell_type": "code",
   "execution_count": 125,
   "metadata": {},
   "outputs": [
    {
     "data": {
      "text/plain": [
       "{'question': 'What is Ticket System?',\n",
       " 'input_documents': [Document(page_content=\"Question: Which are the different options/buttons given on Password Safe Portal request submission page? Answer: Password Safe Portal's request submission page looks like: 1. Account - Name of the managed account used to login on which managed system 2. Start Date - Date for the request's start 3. Access Policy Window - Access policy used for the particular account 4. Start Time - Requested duration's start time. It can be immediate or scheduled for later time. 5. Requested Duration - Duration for which the request would be active. By default, it is 2 hours and can be increased but it should not expand to the next day i.e. it should not start on 7th Sep and end on 8th Sep 6. Access Request - Type of access requested 7. Reason - A valid reason why this access is needed. 8. Ticket System - Ticket system in use in the environment 9. Ticket Number - a valid ticket number 10. Submit Request - Request submission button\", metadata={'source': 'contents\\\\Genpact Privileged access Managemen.txt'}),\n",
       "  Document(page_content=\"14. Requests - Redirects All, Active & Pending requests' tabs 15. System - Displays hostnames 16. Directory - Displays domains 17. Account - Managed accounts 18. Account Description - Description of managed accounts 19. Status - Number of sessions available (Green-ALL, Yellow-Partial, Red- None) 20. Platform - Displays flavour of the operating System or type of devices/system 21. Application - Applications used apart from RDP or SSH session 22. Workgroup - Workgroup of the system 23. Filter - Filter out using any search patterns, 24.\", metadata={'source': 'contents\\\\Genpact Privileged access Managemen.txt'}),\n",
       "  Document(page_content='1.3 Audience This document is intended for PAM Administrators who will log on to PAM solution and troubleshoot the PAM managed various target systems.\\n\\n2. Login procedure for auto Approved Requests\\n\\n2.1 Enter the Okta URL (https://genpact.okta-emea.com/) in the browser (Edge/Chrome is recommended)\\n\\n2.2 Log in with OHR ID & Password in okta\\n\\n2.3 After successful login to okta, Add PAM-AWS app from Genpact Apps and click on the tile as shown helow.\\n\\n2.4 Upon clicking on the PAM-AWS, user will be redirected to enter Passcode or send Push notification.\\n\\n2.5 Once the passcode or Push notification authentication is done user will be Redirected to PAM (Beynndtrust) web portal.\\n\\n2.6 After successful logging in to BT, favorites tab will be displayed by default and user would be able to access other required tabs.\\n\\n1. Click on Domain Linked Accounts as devices like Windows, network which are accessed using domain credentials will be shown here', metadata={'source': 'contents\\\\Genpact Privileged access Managemen.txt'}),\n",
       "  Document(page_content=\"Question: Which are the different options/but given on Password safe Portal home page? Answer: Password Safe mortal's home page looks like: 1. Menu - Opens up the menu elaborately 2. Home - Home Page 3. Password safe - Password Safe Page i.e. Home Page for End User 4. Favourites - Lists favourites selected devices & accounts combinations (Star marked) 5. Recently Used - Lists recently used devices 6. Systems - Lists systems and devices which are not in domain (For ex: Linux) 7. Databases Lists database devices (for ex: Oracle & sql) 8. Domain Linked Accounts - Lists devices which are in domain (for ex: Windows & Netwrk) 9. Applications - Lists devices which use other application like sql Plus, Putty (as an application) 10. Cloud - Lists cloud devices 11. Accounts - Opens up the accounts available used to access devices 12. User Login - Shows user logged in and logout options 13. Settings - changes portal's page by changing color schirme 14. Requests - Redirects All, Active & Pending\", metadata={'source': 'contents\\\\Genpact Privileged access Managemen.txt'})],\n",
       " 'output_text': 'A Ticket System is a system used in an environment to manage and track requests or issues. It typically involves submitting a ticket with relevant information about a request or problem, assigning it a unique ticket number, and tracking its progress until it is resolved or completed.'}"
      ]
     },
     "execution_count": 125,
     "metadata": {},
     "output_type": "execute_result"
    }
   ],
   "source": [
    "query_final = \"What is Ticket System?\"\n",
    "matching_docs_final = new_db.similarity_search(query_final)\n",
    "# Ensure 'question' key is included in the input dictionary\n",
    "input_data = {'question': query_final, 'input_documents': matching_docs_final}\n",
    "answer = chain.invoke(input=input_data)\n",
    "answer"
   ]
  },
  {
   "cell_type": "code",
   "execution_count": 126,
   "metadata": {},
   "outputs": [
    {
     "name": "stdout",
     "output_type": "stream",
     "text": [
      "A Ticket System is a system used in an environment to manage and track requests or issues. It typically involves submitting a ticket with relevant information about a request or problem, assigning it a unique ticket number, and tracking its progress until it is resolved or completed.\n"
     ]
    }
   ],
   "source": [
    "print(answer['output_text'])"
   ]
  },
  {
   "cell_type": "code",
   "execution_count": null,
   "metadata": {},
   "outputs": [],
   "source": []
  }
 ],
 "metadata": {
  "kernelspec": {
   "display_name": "genpact",
   "language": "python",
   "name": "python3"
  },
  "language_info": {
   "codemirror_mode": {
    "name": "ipython",
    "version": 3
   },
   "file_extension": ".py",
   "mimetype": "text/x-python",
   "name": "python",
   "nbconvert_exporter": "python",
   "pygments_lexer": "ipython3",
   "version": "3.11.7"
  }
 },
 "nbformat": 4,
 "nbformat_minor": 2
}
